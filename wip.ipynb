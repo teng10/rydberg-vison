{
 "cells": [
  {
   "cell_type": "code",
   "execution_count": 19,
   "id": "4f10649c",
   "metadata": {},
   "outputs": [],
   "source": [
    "import numpy as np\n",
    "import einops\n",
    "import matplotlib\n",
    "import matplotlib.pyplot as plt\n",
    "\n",
    "# from scipy.spatial.distance import pdist\n",
    "# from scipy.spatial import ckdtree\n",
    "\n",
    "from shapely.geometry.polygon import Polygon\n",
    "import shapely\n",
    "\n",
    "import importlib"
   ]
  },
  {
   "cell_type": "code",
   "execution_count": 25,
   "id": "07235d1c",
   "metadata": {},
   "outputs": [],
   "source": [
    "import loops\n",
    "import lattice\n",
    "import utils"
   ]
  },
  {
   "cell_type": "code",
   "execution_count": 20,
   "id": "f2899485",
   "metadata": {},
   "outputs": [],
   "source": [
    "loops = importlib.reload(loops)\n",
    "lattice = importlib.reload(lattice)\n",
    "utils = importlib.reload(utils)\n"
   ]
  },
  {
   "cell_type": "code",
   "execution_count": 37,
   "id": "84c9ea83",
   "metadata": {},
   "outputs": [],
   "source": [
    "nx = 2\n",
    "ny = 3\n",
    "grid_params = {'x1':0, 'x2':nx, 'y1':0, 'y2':ny, 'Nx':nx, 'Ny':ny, 'a1':np.array([1,0]), 'a2':np.array([1/2, np.sqrt(3)/2]), 'O':(0.,0.)}\n",
    "mesh = lattice.create_grid_mesh(grid_params)\n",
    "BZ_kpoints = lattice.create_grid(grid_params)\n",
    "my_x, my_y = zip((BZ_kpoints[:, 0], BZ_kpoints[:, 1]))"
   ]
  },
  {
   "cell_type": "code",
   "execution_count": 38,
   "id": "1f62099f",
   "metadata": {},
   "outputs": [
    {
     "data": {
      "image/svg+xml": [
       "<svg xmlns=\"http://www.w3.org/2000/svg\" xmlns:xlink=\"http://www.w3.org/1999/xlink\" width=\"100.0\" height=\"100.0\" viewBox=\"1.2092 -0.2908 7.581599999999999 6.64377782649107\" preserveAspectRatio=\"xMinYMin meet\"><g transform=\"matrix(1,0,0,-1,0,6.06217782649107)\"><path fill-rule=\"evenodd\" fill=\"#66cc99\" stroke=\"#555555\" stroke-width=\"0.151632\" opacity=\"0.6\" d=\"M 2.99,-0.01 L 7.01,-0.01 L 8.51,2.608076211353316 L 6.51,6.07217782649107 L 3.49,6.07217782649107 L 1.49,2.608076211353316 L 2.99,-0.01 z\" /></g></svg>"
      ],
      "text/plain": [
       "<POLYGON ((2.99 -0.01, 7.01 -0.01, 8.51 2.608, 6.51 6.072, 3.49 6.072, 1.49 ...>"
      ]
     },
     "execution_count": 38,
     "metadata": {},
     "output_type": "execute_result"
    }
   ],
   "source": [
    "# Define the polygon for the cut\n",
    "height = np.sqrt(3)/2\n",
    "epsilon = 0.01 # to shift the boundary of the polygon slightly so that the region counts correct points within the boundary\n",
    "polygon = Polygon([(3 - epsilon, 0 - epsilon), (7 + epsilon, 0 - epsilon), (8.5 + epsilon, 3 * height + epsilon), \n",
    "                   (6.5 + epsilon, 7 * height + epsilon), (3.5 - epsilon, 7 * height + epsilon), (1.5 - epsilon, 3 * height + epsilon)])\n",
    "polygon"
   ]
  },
  {
   "cell_type": "code",
   "execution_count": 39,
   "id": "21d5db02",
   "metadata": {},
   "outputs": [
    {
     "data": {
      "text/plain": [
       "(3, 2)"
      ]
     },
     "execution_count": 39,
     "metadata": {},
     "output_type": "execute_result"
    }
   ],
   "source": [
    "mesh[0].shape"
   ]
  },
  {
   "cell_type": "code",
   "execution_count": 41,
   "id": "5fdec0ff",
   "metadata": {},
   "outputs": [
    {
     "data": {
      "text/plain": [
       "array([[0., 1.],\n",
       "       [0., 1.],\n",
       "       [0., 1.]])"
      ]
     },
     "execution_count": 41,
     "metadata": {},
     "output_type": "execute_result"
    }
   ],
   "source": [
    "mesh[0]"
   ]
  },
  {
   "cell_type": "code",
   "execution_count": 40,
   "id": "eab820c8",
   "metadata": {},
   "outputs": [
    {
     "data": {
      "text/plain": [
       "(3, 2)"
      ]
     },
     "execution_count": 40,
     "metadata": {},
     "output_type": "execute_result"
    }
   ],
   "source": [
    "mesh[1].shape"
   ]
  },
  {
   "cell_type": "code",
   "execution_count": 42,
   "id": "e26b88fc",
   "metadata": {},
   "outputs": [
    {
     "data": {
      "text/plain": [
       "array([[0., 0.],\n",
       "       [1., 1.],\n",
       "       [2., 2.]])"
      ]
     },
     "execution_count": 42,
     "metadata": {},
     "output_type": "execute_result"
    }
   ],
   "source": [
    "mesh[1]"
   ]
  },
  {
   "cell_type": "code",
   "execution_count": 43,
   "id": "71111516",
   "metadata": {},
   "outputs": [
    {
     "data": {
      "image/png": "[encoded data removed]",
      "text/plain": [
       "<Figure size 640x480 with 1 Axes>"
      ]
     },
     "metadata": {},
     "output_type": "display_data"
    }
   ],
   "source": [
    "fig, ax = plt.subplots(1,1)\n",
    "my_x, my_y = lattice.convert_to_XY(BZ_kpoints)\n",
    "ax.scatter(my_x, my_y)\n",
    "ax.set_aspect(\"equal\")"
   ]
  },
  {
   "cell_type": "code",
   "execution_count": null,
   "id": "559b5cba",
   "metadata": {},
   "outputs": [],
   "source": []
  }
 ],
 "metadata": {
  "kernelspec": {
   "display_name": "Python 3 (ipykernel)",
   "language": "python",
   "name": "python3"
  },
  "language_info": {
   "codemirror_mode": {
    "name": "ipython",
    "version": 3
   },
   "file_extension": ".py",
   "mimetype": "text/x-python",
   "name": "python",
   "nbconvert_exporter": "python",
   "pygments_lexer": "ipython3",
   "version": "3.10.8"
  }
 },
 "nbformat": 4,
 "nbformat_minor": 5
}
