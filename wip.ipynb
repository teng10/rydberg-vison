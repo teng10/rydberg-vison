{
 "cells": [
  {
   "cell_type": "code",
   "execution_count": 81,
   "id": "06a747a9",
   "metadata": {},
   "outputs": [],
   "source": [
    "import numpy as np\n",
    "import einops\n",
    "import matplotlib\n",
    "import matplotlib.pyplot as plt\n",
    "\n",
    "# from scipy.spatial.distance import pdist\n",
    "# from scipy.spatial import ckdtree\n",
    "\n",
    "from shapely.geometry.polygon import Polygon\n",
    "import shapely\n",
    "\n",
    "import importlib"
   ]
  },
  {
   "cell_type": "code",
   "execution_count": 82,
   "id": "a117d9b0",
   "metadata": {},
   "outputs": [],
   "source": [
    "import loops\n",
    "import lattice\n",
    "import utils"
   ]
  },
  {
   "cell_type": "code",
   "execution_count": 83,
   "id": "f7857cd4",
   "metadata": {},
   "outputs": [],
   "source": [
    "loops = importlib.reload(loops)\n",
    "lattice = importlib.reload(lattice)\n",
    "utils = importlib.reload(utils)\n"
   ]
  },
  {
   "cell_type": "code",
   "execution_count": 84,
   "id": "9ebb0949",
   "metadata": {},
   "outputs": [],
   "source": [
    "nx = 2\n",
    "ny = 3\n",
    "grid_params = {'x1':0, 'x2':nx, 'y1':0, 'y2':ny, 'Nx':nx, 'Ny':ny, \n",
    "               'a1':np.array([2,0]), 'a2':np.array([1, np.sqrt(3)]), \n",
    "               'bases':[np.array([1/2, 0]), np.array([-1/2, 0]), np.array([0, np.sqrt(3)/2.])]  \n",
    "                                 }\n",
    "mesh = lattice.create_grid_mesh(grid_params)\n",
    "BZ_kpoints = lattice.create_grid(grid_params)\n",
    "my_x, my_y = zip((BZ_kpoints[:, 0], BZ_kpoints[:, 1]))"
   ]
  },
  {
   "cell_type": "code",
   "execution_count": 85,
   "id": "01655052",
   "metadata": {},
   "outputs": [
    {
     "data": {
      "image/svg+xml": [
       "<svg xmlns=\"http://www.w3.org/2000/svg\" xmlns:xlink=\"http://www.w3.org/1999/xlink\" width=\"100.0\" height=\"100.0\" viewBox=\"1.2092 -0.2908 7.581599999999999 6.64377782649107\" preserveAspectRatio=\"xMinYMin meet\"><g transform=\"matrix(1,0,0,-1,0,6.06217782649107)\"><path fill-rule=\"evenodd\" fill=\"#66cc99\" stroke=\"#555555\" stroke-width=\"0.151632\" opacity=\"0.6\" d=\"M 2.99,-0.01 L 7.01,-0.01 L 8.51,2.608076211353316 L 6.51,6.07217782649107 L 3.49,6.07217782649107 L 1.49,2.608076211353316 L 2.99,-0.01 z\" /></g></svg>"
      ],
      "text/plain": [
       "<POLYGON ((2.99 -0.01, 7.01 -0.01, 8.51 2.608, 6.51 6.072, 3.49 6.072, 1.49 ...>"
      ]
     },
     "execution_count": 85,
     "metadata": {},
     "output_type": "execute_result"
    }
   ],
   "source": [
    "# Define the polygon for the cut\n",
    "height = np.sqrt(3)/2\n",
    "epsilon = 0.01 # to shift the boundary of the polygon slightly so that the region counts correct points within the boundary\n",
    "polygon = Polygon([(3 - epsilon, 0 - epsilon), (7 + epsilon, 0 - epsilon), (8.5 + epsilon, 3 * height + epsilon), \n",
    "                   (6.5 + epsilon, 7 * height + epsilon), (3.5 - epsilon, 7 * height + epsilon), (1.5 - epsilon, 3 * height + epsilon)])\n",
    "polygon"
   ]
  },
  {
   "cell_type": "code",
   "execution_count": 86,
   "id": "15034085",
   "metadata": {},
   "outputs": [
    {
     "data": {
      "text/plain": [
       "(3, 2)"
      ]
     },
     "execution_count": 86,
     "metadata": {},
     "output_type": "execute_result"
    }
   ],
   "source": [
    "mesh[0].shape"
   ]
  },
  {
   "cell_type": "code",
   "execution_count": 87,
   "id": "981031ea",
   "metadata": {},
   "outputs": [
    {
     "data": {
      "text/plain": [
       "array([[0., 1.],\n",
       "       [0., 1.],\n",
       "       [0., 1.]])"
      ]
     },
     "execution_count": 87,
     "metadata": {},
     "output_type": "execute_result"
    }
   ],
   "source": [
    "mesh[0]"
   ]
  },
  {
   "cell_type": "code",
   "execution_count": 88,
   "id": "21fcafa0",
   "metadata": {},
   "outputs": [
    {
     "data": {
      "text/plain": [
       "(3, 2)"
      ]
     },
     "execution_count": 88,
     "metadata": {},
     "output_type": "execute_result"
    }
   ],
   "source": [
    "mesh[1].shape"
   ]
  },
  {
   "cell_type": "code",
   "execution_count": 89,
   "id": "47a6620e",
   "metadata": {},
   "outputs": [
    {
     "data": {
      "text/plain": [
       "array([[0., 0.],\n",
       "       [1., 1.],\n",
       "       [2., 2.]])"
      ]
     },
     "execution_count": 89,
     "metadata": {},
     "output_type": "execute_result"
    }
   ],
   "source": [
    "mesh[1]"
   ]
  },
  {
   "cell_type": "code",
   "execution_count": 90,
   "id": "dda58f67",
   "metadata": {},
   "outputs": [
    {
     "data": {
      "text/plain": [
       "array([[ 0.5       ,  0.        ],\n",
       "       [ 2.5       ,  0.        ],\n",
       "       [ 1.5       ,  1.73205081],\n",
       "       [ 3.5       ,  1.73205081],\n",
       "       [ 2.5       ,  3.46410162],\n",
       "       [ 4.5       ,  3.46410162],\n",
       "       [-0.5       ,  0.        ],\n",
       "       [ 1.5       ,  0.        ],\n",
       "       [ 0.5       ,  1.73205081],\n",
       "       [ 2.5       ,  1.73205081],\n",
       "       [ 1.5       ,  3.46410162],\n",
       "       [ 3.5       ,  3.46410162],\n",
       "       [ 0.        ,  0.8660254 ],\n",
       "       [ 2.        ,  0.8660254 ],\n",
       "       [ 1.        ,  2.59807621],\n",
       "       [ 3.        ,  2.59807621],\n",
       "       [ 2.        ,  4.33012702],\n",
       "       [ 4.        ,  4.33012702]])"
      ]
     },
     "execution_count": 90,
     "metadata": {},
     "output_type": "execute_result"
    }
   ],
   "source": [
    "BZ_kpoints"
   ]
  },
  {
   "cell_type": "code",
   "execution_count": 91,
   "id": "c1557cc0",
   "metadata": {},
   "outputs": [
    {
     "data": {
      "image/png": "[encoded data removed]",
      "text/plain": [
       "<Figure size 640x480 with 1 Axes>"
      ]
     },
     "metadata": {},
     "output_type": "display_data"
    }
   ],
   "source": [
    "fig, ax = plt.subplots(1,1)\n",
    "my_x, my_y = lattice.convert_to_XY(BZ_kpoints)\n",
    "ax.scatter(my_x, my_y)\n",
    "ax.set_aspect(\"equal\")"
   ]
  },
  {
   "cell_type": "code",
   "execution_count": 93,
   "id": "6d4402bf",
   "metadata": {},
   "outputs": [
    {
     "ename": "NameError",
     "evalue": "name 'close_pairs_pdist' is not defined",
     "output_type": "error",
     "traceback": [
      "\u001b[0;31m---------------------------------------------------------------------------\u001b[0m",
      "\u001b[0;31mNameError\u001b[0m                                 Traceback (most recent call last)",
      "Cell \u001b[0;32mIn[93], line 7\u001b[0m\n\u001b[1;32m      4\u001b[0m   bonds \u001b[38;5;241m=\u001b[39m pts[np\u001b[38;5;241m.\u001b[39mstack(my_points)\u001b[38;5;241m.\u001b[39mT]\n\u001b[1;32m      5\u001b[0m   \u001b[38;5;28;01mreturn\u001b[39;00m np\u001b[38;5;241m.\u001b[39maround(bonds, \u001b[38;5;241m2\u001b[39m)\n\u001b[0;32m----> 7\u001b[0m bonds \u001b[38;5;241m=\u001b[39m \u001b[43m_find_all_bonds\u001b[49m\u001b[43m(\u001b[49m\u001b[43mBZ_kpoints\u001b[49m\u001b[43m)\u001b[49m\n\u001b[1;32m      8\u001b[0m fig, ax \u001b[38;5;241m=\u001b[39m plt\u001b[38;5;241m.\u001b[39msubplots(\u001b[38;5;241m1\u001b[39m,\u001b[38;5;241m1\u001b[39m)\n\u001b[1;32m      9\u001b[0m \u001b[38;5;66;03m# my_x, my_y = zip((np.stack(BZ_kpoints_cut, 0)[:, 0], np.stack(BZ_kpoints_cut, 0)[:, 1]))\u001b[39;00m\n",
      "Cell \u001b[0;32mIn[93], line 3\u001b[0m, in \u001b[0;36m_find_all_bonds\u001b[0;34m(pts, cut_off)\u001b[0m\n\u001b[1;32m      1\u001b[0m \u001b[38;5;28;01mdef\u001b[39;00m \u001b[38;5;21m_find_all_bonds\u001b[39m(pts, cut_off\u001b[38;5;241m=\u001b[39m\u001b[38;5;241m1.1\u001b[39m):\n\u001b[1;32m      2\u001b[0m   \u001b[38;5;66;03m# utility function to find all bonds given all points `pts`\u001b[39;00m\n\u001b[0;32m----> 3\u001b[0m   my_points \u001b[38;5;241m=\u001b[39m \u001b[43mclose_pairs_pdist\u001b[49m(pts, \u001b[38;5;241m1.1\u001b[39m)\n\u001b[1;32m      4\u001b[0m   bonds \u001b[38;5;241m=\u001b[39m pts[np\u001b[38;5;241m.\u001b[39mstack(my_points)\u001b[38;5;241m.\u001b[39mT]\n\u001b[1;32m      5\u001b[0m   \u001b[38;5;28;01mreturn\u001b[39;00m np\u001b[38;5;241m.\u001b[39maround(bonds, \u001b[38;5;241m2\u001b[39m)\n",
      "\u001b[0;31mNameError\u001b[0m: name 'close_pairs_pdist' is not defined"
     ]
    }
   ],
   "source": [
    "def _find_all_bonds(pts, cut_off=1.1):\n",
    "  # utility function to find all bonds given all points `pts`\n",
    "  my_points = close_pairs_pdist(pts, 1.1)\n",
    "  bonds = pts[np.stack(my_points).T]\n",
    "  return np.around(bonds, 2)\n",
    "\n",
    "bonds = _find_all_bonds(BZ_kpoints)\n",
    "fig, ax = plt.subplots(1,1)\n",
    "# my_x, my_y = zip((np.stack(BZ_kpoints_cut, 0)[:, 0], np.stack(BZ_kpoints_cut, 0)[:, 1]))\n",
    "ax.scatter(my_x, my_y)\n",
    "ax.set_aspect(\"equal\")\n",
    "_plot_v_bonds(ax, bonds, c='r')\n",
    "fig.suptitle(f\"Lattice with N={my_x[0].shape[0]} and \" +r\"$N_{\\rm bonds}=$\" + f\"{bonds.shape[0]}\")\n"
   ]
  },
  {
   "cell_type": "code",
   "execution_count": null,
   "id": "90a7cf15",
   "metadata": {},
   "outputs": [],
   "source": []
  }
 ],
 "metadata": {
  "kernelspec": {
   "display_name": "Python 3 (ipykernel)",
   "language": "python",
   "name": "python3"
  },
  "language_info": {
   "codemirror_mode": {
    "name": "ipython",
    "version": 3
   },
   "file_extension": ".py",
   "mimetype": "text/x-python",
   "name": "python",
   "nbconvert_exporter": "python",
   "pygments_lexer": "ipython3",
   "version": "3.10.8"
  }
 },
 "nbformat": 4,
 "nbformat_minor": 5
}
